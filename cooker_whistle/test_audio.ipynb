{
 "cells": [
  {
   "cell_type": "markdown",
   "metadata": {},
   "source": [
    "# test_audio\n",
    "\n",
    "This notebook explores audio."
   ]
  },
  {
   "cell_type": "code",
   "execution_count": 1,
   "metadata": {},
   "outputs": [],
   "source": [
    "import pyaudio\n",
    "import numpy as np\n",
    "from matplotlib import pyplot"
   ]
  },
  {
   "cell_type": "code",
   "execution_count": 2,
   "metadata": {},
   "outputs": [
    {
     "name": "stdout",
     "output_type": "stream",
     "text": [
      "Found 9 devices:\n",
      "{'index': 0, 'structVersion': 2, 'name': 'HDA NVidia: HDMI 0 (hw:0,3)', 'hostApi': 0, 'maxInputChannels': 0, 'maxOutputChannels': 2, 'defaultLowInputLatency': -1.0, 'defaultLowOutputLatency': 0.005804988662131519, 'defaultHighInputLatency': -1.0, 'defaultHighOutputLatency': 0.034829931972789115, 'defaultSampleRate': 44100.0}\n",
      "HDA NVidia: HDMI 0 (hw:0,3)\n",
      "{'index': 1, 'structVersion': 2, 'name': 'HDA NVidia: HDMI 1 (hw:0,7)', 'hostApi': 0, 'maxInputChannels': 0, 'maxOutputChannels': 8, 'defaultLowInputLatency': -1.0, 'defaultLowOutputLatency': 0.005804988662131519, 'defaultHighInputLatency': -1.0, 'defaultHighOutputLatency': 0.034829931972789115, 'defaultSampleRate': 44100.0}\n",
      "HDA NVidia: HDMI 1 (hw:0,7)\n",
      "{'index': 2, 'structVersion': 2, 'name': 'HD-Audio Generic: ALC887-VD Analog (hw:1,0)', 'hostApi': 0, 'maxInputChannels': 2, 'maxOutputChannels': 0, 'defaultLowInputLatency': 0.005804988662131519, 'defaultLowOutputLatency': -1.0, 'defaultHighInputLatency': 0.034829931972789115, 'defaultHighOutputLatency': -1.0, 'defaultSampleRate': 44100.0}\n",
      "HD-Audio Generic: ALC887-VD Analog (hw:1,0)\n",
      "{'index': 3, 'structVersion': 2, 'name': 'HD-Audio Generic: ALC887-VD Digital (hw:1,1)', 'hostApi': 0, 'maxInputChannels': 0, 'maxOutputChannels': 2, 'defaultLowInputLatency': -1.0, 'defaultLowOutputLatency': 0.005804988662131519, 'defaultHighInputLatency': -1.0, 'defaultHighOutputLatency': 0.034829931972789115, 'defaultSampleRate': 44100.0}\n",
      "HD-Audio Generic: ALC887-VD Digital (hw:1,1)\n",
      "{'index': 4, 'structVersion': 2, 'name': 'HD-Audio Generic: ALC887-VD Alt Analog (hw:1,2)', 'hostApi': 0, 'maxInputChannels': 2, 'maxOutputChannels': 0, 'defaultLowInputLatency': 0.005804988662131519, 'defaultLowOutputLatency': -1.0, 'defaultHighInputLatency': 0.034829931972789115, 'defaultHighOutputLatency': -1.0, 'defaultSampleRate': 44100.0}\n",
      "HD-Audio Generic: ALC887-VD Alt Analog (hw:1,2)\n",
      "{'index': 5, 'structVersion': 2, 'name': 'USB Device 0x46d:0x825: Audio (hw:2,0)', 'hostApi': 0, 'maxInputChannels': 1, 'maxOutputChannels': 0, 'defaultLowInputLatency': 0.007979166666666667, 'defaultLowOutputLatency': -1.0, 'defaultHighInputLatency': 0.032, 'defaultHighOutputLatency': -1.0, 'defaultSampleRate': 48000.0}\n",
      "USB Device 0x46d:0x825: Audio (hw:2,0)\n",
      "{'index': 6, 'structVersion': 2, 'name': 'hdmi', 'hostApi': 0, 'maxInputChannels': 0, 'maxOutputChannels': 2, 'defaultLowInputLatency': -1.0, 'defaultLowOutputLatency': 0.005804988662131519, 'defaultHighInputLatency': -1.0, 'defaultHighOutputLatency': 0.034829931972789115, 'defaultSampleRate': 44100.0}\n",
      "hdmi\n",
      "{'index': 7, 'structVersion': 2, 'name': 'pulse', 'hostApi': 0, 'maxInputChannels': 32, 'maxOutputChannels': 32, 'defaultLowInputLatency': 0.008707482993197279, 'defaultLowOutputLatency': 0.008707482993197279, 'defaultHighInputLatency': 0.034829931972789115, 'defaultHighOutputLatency': 0.034829931972789115, 'defaultSampleRate': 44100.0}\n",
      "pulse\n",
      "{'index': 8, 'structVersion': 2, 'name': 'default', 'hostApi': 0, 'maxInputChannels': 32, 'maxOutputChannels': 32, 'defaultLowInputLatency': 0.008707482993197279, 'defaultLowOutputLatency': 0.008707482993197279, 'defaultHighInputLatency': 0.034829931972789115, 'defaultHighOutputLatency': 0.034829931972789115, 'defaultSampleRate': 44100.0}\n",
      "default\n"
     ]
    }
   ],
   "source": [
    "# get pyaudio input device\n",
    "def getInputDevice(p):\n",
    "    index = None\n",
    "    nDevices = p.get_device_count()\n",
    "    print('Found %d devices:' % nDevices)\n",
    "    for i in range(nDevices):\n",
    "        deviceInfo = p.get_device_info_by_index(i)\n",
    "        print(deviceInfo)\n",
    "        devName = deviceInfo['name']\n",
    "        print(devName)\n",
    "        # look for the \"input\" keyword\n",
    "        # choose the first such device as input\n",
    "        # change this loop to modify this behavior\n",
    "        # maybe you want \"mic\"?\n",
    "        if not index:\n",
    "            if 'input' in devName.lower():\n",
    "                index = i\n",
    "    # print out chosen device\n",
    "    if index is not None:\n",
    "        devName = p.get_device_info_by_index(index)[\"name\"]\n",
    "        print(\"Input device chosen: %s\" % devName)\n",
    "    return index\n",
    "# initialize pyaudio\n",
    "p = pyaudio.PyAudio()\n",
    "getInputDevice(p)"
   ]
  },
  {
   "cell_type": "markdown",
   "metadata": {},
   "source": [
    "In this case, this is our candidate:\n",
    "\n",
    "```\n",
    "{'index': 5, 'structVersion': 2, 'name': 'USB Device 0x46d:0x825: Audio (hw:2,0)', 'hostApi': 0, 'maxInputChannels': 1, 'maxOutputChannels': 0, 'defaultLowInputLatency': 0.007979166666666667, 'defaultLowOutputLatency': -1.0, 'defaultHighInputLatency': 0.032, 'defaultHighOutputLatency': -1.0, 'defaultSampleRate': 48000.0}\n",
    "USB Device 0x46d:0x825: Audio (hw:2,0)\n",
    "```"
   ]
  },
  {
   "cell_type": "code",
   "execution_count": 7,
   "metadata": {},
   "outputs": [
    {
     "name": "stdout",
     "output_type": "stream",
     "text": [
      "opening stream...\n",
      "signal max: 25839.000000 RMS: 43.191988 abs: 361.299408 \n"
     ]
    },
    {
     "data": {
      "image/png": "[encoded data removed]",
      "text/plain": [
       "<Figure size 432x288 with 1 Axes>"
      ]
     },
     "metadata": {
      "needs_background": "light"
     },
     "output_type": "display_data"
    }
   ],
   "source": [
    "# set sample rate\n",
    "NSEC = 5\n",
    "sampleRate = 48000\n",
    "sampleLen = NSEC*48000\n",
    "\n",
    "print('opening stream...')\n",
    "stream = p.open(format = pyaudio.paInt16,\n",
    "                channels = 1,\n",
    "                rate = sampleRate,\n",
    "                input = True,\n",
    "                frames_per_buffer = sampleLen,\n",
    "                input_device_index = 5)\n",
    "loop = True\n",
    "first = True\n",
    "while loop:\n",
    "    # read a chunk of data - discard first\n",
    "    data  = stream.read(sampleLen)\n",
    "    if not first:\n",
    "        f = open(\"test.bin\", 'wb')\n",
    "        f.write(data)\n",
    "        f.close()\n",
    "        loop = False\n",
    "    first = False\n",
    "p.close(stream)\n",
    "\n",
    "def showAudio(fileName, N):\n",
    "    f = open(fileName, 'rb')\n",
    "    y = f.read()\n",
    "    f.close()\n",
    "\n",
    "    # audio data \n",
    "    x = range(N)\n",
    "    y = np.frombuffer(y, np.int16)\n",
    "\n",
    "    print(\"signal max: %f RMS: %f abs: %f \" % (np.max(y), \n",
    "                                               np.sqrt(np.mean(y**2)), \n",
    "                                               np.mean(np.abs(y))))\n",
    "\n",
    "    pyplot.title('Audio')\n",
    "\n",
    "    # plot audio\n",
    "    pyplot.subplot(2, 1, 1)\n",
    "    pyplot.plot( x, y, '-' )\n",
    "    pyplot.xlabel('time')\n",
    "    pyplot.ylabel('Amplitude')\n",
    "        \n",
    "    pyplot.show()\n",
    "    \n",
    "showAudio('test.bin', sampleLen)"
   ]
  },
  {
   "cell_type": "code",
   "execution_count": null,
   "metadata": {},
   "outputs": [],
   "source": []
  }
 ],
 "metadata": {
  "kernelspec": {
   "display_name": "Python 3",
   "language": "python",
   "name": "python3"
  },
  "language_info": {
   "codemirror_mode": {
    "name": "ipython",
    "version": 3
   },
   "file_extension": ".py",
   "mimetype": "text/x-python",
   "name": "python",
   "nbconvert_exporter": "python",
   "pygments_lexer": "ipython3",
   "version": "3.8.5"
  }
 },
 "nbformat": 4,
 "nbformat_minor": 4
}
