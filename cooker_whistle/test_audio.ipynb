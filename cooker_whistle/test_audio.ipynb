{
 "cells": [
  {
   "cell_type": "markdown",
   "metadata": {},
   "source": [
    "# test_audio\n",
    "\n",
    "This notebook explores audio."
   ]
  },
  {
   "cell_type": "code",
   "execution_count": 5,
   "metadata": {},
   "outputs": [],
   "source": [
    "import pyaudio\n",
    "import numpy as np\n",
    "from matplotlib import pyplot"
   ]
  },
  {
   "cell_type": "code",
   "execution_count": 2,
   "metadata": {},
   "outputs": [],
   "source": [
    "# get pyaudio input device\n",
    "def getInputDevice(p):\n",
    "    index = None\n",
    "    nDevices = p.get_device_count()\n",
    "    print('Found %d devices:' % nDevices)\n",
    "    for i in range(nDevices):\n",
    "        deviceInfo = p.get_device_info_by_index(i)\n",
    "        print(deviceInfo)\n",
    "        devName = deviceInfo['name']\n",
    "        print(devName)\n",
    "        # look for the \"input\" keyword\n",
    "        # choose the first such device as input\n",
    "        # change this loop to modify this behavior\n",
    "        # maybe you want \"mic\"?\n",
    "        if not index:\n",
    "            if 'input' in devName.lower():\n",
    "                index = i\n",
    "    # print out chosen device\n",
    "    if index is not None:\n",
    "        devName = p.get_device_info_by_index(index)[\"name\"]\n",
    "        print(\"Input device chosen: %s\" % devName)\n",
    "    return index"
   ]
  },
  {
   "cell_type": "code",
   "execution_count": 3,
   "metadata": {},
   "outputs": [
    {
     "name": "stdout",
     "output_type": "stream",
     "text": [
      "Found 9 devices:\n",
      "{'index': 0, 'structVersion': 2, 'name': 'HDA NVidia: HDMI 0 (hw:0,3)', 'hostApi': 0, 'maxInputChannels': 0, 'maxOutputChannels': 8, 'defaultLowInputLatency': -1.0, 'defaultLowOutputLatency': 0.005804988662131519, 'defaultHighInputLatency': -1.0, 'defaultHighOutputLatency': 0.034829931972789115, 'defaultSampleRate': 44100.0}\n",
      "HDA NVidia: HDMI 0 (hw:0,3)\n",
      "{'index': 1, 'structVersion': 2, 'name': 'HDA NVidia: HDMI 1 (hw:0,7)', 'hostApi': 0, 'maxInputChannels': 0, 'maxOutputChannels': 8, 'defaultLowInputLatency': -1.0, 'defaultLowOutputLatency': 0.005804988662131519, 'defaultHighInputLatency': -1.0, 'defaultHighOutputLatency': 0.034829931972789115, 'defaultSampleRate': 44100.0}\n",
      "HDA NVidia: HDMI 1 (hw:0,7)\n",
      "{'index': 2, 'structVersion': 2, 'name': 'HD-Audio Generic: ALC887-VD Analog (hw:1,0)', 'hostApi': 0, 'maxInputChannels': 2, 'maxOutputChannels': 2, 'defaultLowInputLatency': 0.005804988662131519, 'defaultLowOutputLatency': 0.005804988662131519, 'defaultHighInputLatency': 0.034829931972789115, 'defaultHighOutputLatency': 0.034829931972789115, 'defaultSampleRate': 44100.0}\n",
      "HD-Audio Generic: ALC887-VD Analog (hw:1,0)\n",
      "{'index': 3, 'structVersion': 2, 'name': 'HD-Audio Generic: ALC887-VD Digital (hw:1,1)', 'hostApi': 0, 'maxInputChannels': 0, 'maxOutputChannels': 2, 'defaultLowInputLatency': -1.0, 'defaultLowOutputLatency': 0.005804988662131519, 'defaultHighInputLatency': -1.0, 'defaultHighOutputLatency': 0.034829931972789115, 'defaultSampleRate': 44100.0}\n",
      "HD-Audio Generic: ALC887-VD Digital (hw:1,1)\n",
      "{'index': 4, 'structVersion': 2, 'name': 'HD-Audio Generic: ALC887-VD Alt Analog (hw:1,2)', 'hostApi': 0, 'maxInputChannels': 2, 'maxOutputChannels': 0, 'defaultLowInputLatency': 0.005804988662131519, 'defaultLowOutputLatency': -1.0, 'defaultHighInputLatency': 0.034829931972789115, 'defaultHighOutputLatency': -1.0, 'defaultSampleRate': 44100.0}\n",
      "HD-Audio Generic: ALC887-VD Alt Analog (hw:1,2)\n",
      "{'index': 5, 'structVersion': 2, 'name': 'USB Device 0x46d:0x825: Audio (hw:2,0)', 'hostApi': 0, 'maxInputChannels': 1, 'maxOutputChannels': 0, 'defaultLowInputLatency': 0.007979166666666667, 'defaultLowOutputLatency': -1.0, 'defaultHighInputLatency': 0.032, 'defaultHighOutputLatency': -1.0, 'defaultSampleRate': 48000.0}\n",
      "USB Device 0x46d:0x825: Audio (hw:2,0)\n",
      "{'index': 6, 'structVersion': 2, 'name': 'hdmi', 'hostApi': 0, 'maxInputChannels': 0, 'maxOutputChannels': 8, 'defaultLowInputLatency': -1.0, 'defaultLowOutputLatency': 0.005804988662131519, 'defaultHighInputLatency': -1.0, 'defaultHighOutputLatency': 0.034829931972789115, 'defaultSampleRate': 44100.0}\n",
      "hdmi\n",
      "{'index': 7, 'structVersion': 2, 'name': 'pulse', 'hostApi': 0, 'maxInputChannels': 32, 'maxOutputChannels': 32, 'defaultLowInputLatency': 0.008707482993197279, 'defaultLowOutputLatency': 0.008707482993197279, 'defaultHighInputLatency': 0.034829931972789115, 'defaultHighOutputLatency': 0.034829931972789115, 'defaultSampleRate': 44100.0}\n",
      "pulse\n",
      "{'index': 8, 'structVersion': 2, 'name': 'default', 'hostApi': 0, 'maxInputChannels': 32, 'maxOutputChannels': 32, 'defaultLowInputLatency': 0.008707482993197279, 'defaultLowOutputLatency': 0.008707482993197279, 'defaultHighInputLatency': 0.034829931972789115, 'defaultHighOutputLatency': 0.034829931972789115, 'defaultSampleRate': 44100.0}\n",
      "default\n"
     ]
    }
   ],
   "source": [
    "# initialize pyaudio\n",
    "p = pyaudio.PyAudio()\n",
    "getInputDevice(p)"
   ]
  },
  {
   "cell_type": "code",
   "execution_count": 22,
   "metadata": {},
   "outputs": [
    {
     "ename": "ValueError",
     "evalue": "Stream `<pyaudio.Stream object at 0x7fc0d076f880>' not found",
     "output_type": "error",
     "traceback": [
      "\u001b[0;31m---------------------------------------------------------------------------\u001b[0m",
      "\u001b[0;31mValueError\u001b[0m                                Traceback (most recent call last)",
      "\u001b[0;32m<ipython-input-22-7b3dad74cb8f>\u001b[0m in \u001b[0;36m<module>\u001b[0;34m\u001b[0m\n\u001b[1;32m      3\u001b[0m \u001b[0msampleRate\u001b[0m \u001b[0;34m=\u001b[0m \u001b[0;36m48000\u001b[0m\u001b[0;34m\u001b[0m\u001b[0;34m\u001b[0m\u001b[0m\n\u001b[1;32m      4\u001b[0m \u001b[0;34m\u001b[0m\u001b[0m\n\u001b[0;32m----> 5\u001b[0;31m \u001b[0mp\u001b[0m\u001b[0;34m.\u001b[0m\u001b[0mclose\u001b[0m\u001b[0;34m(\u001b[0m\u001b[0mstream\u001b[0m\u001b[0;34m)\u001b[0m\u001b[0;34m\u001b[0m\u001b[0;34m\u001b[0m\u001b[0m\n\u001b[0m\u001b[1;32m      6\u001b[0m \u001b[0mprint\u001b[0m\u001b[0;34m(\u001b[0m\u001b[0;34m'opening stream...'\u001b[0m\u001b[0;34m)\u001b[0m\u001b[0;34m\u001b[0m\u001b[0;34m\u001b[0m\u001b[0m\n\u001b[1;32m      7\u001b[0m stream = p.open(format = pyaudio.paInt16,\n",
      "\u001b[0;32m~/anaconda3/envs/opencv/lib/python3.8/site-packages/pyaudio.py\u001b[0m in \u001b[0;36mclose\u001b[0;34m(self, stream)\u001b[0m\n\u001b[1;32m    761\u001b[0m \u001b[0;34m\u001b[0m\u001b[0m\n\u001b[1;32m    762\u001b[0m         \u001b[0;32mif\u001b[0m \u001b[0mstream\u001b[0m \u001b[0;32mnot\u001b[0m \u001b[0;32min\u001b[0m \u001b[0mself\u001b[0m\u001b[0;34m.\u001b[0m\u001b[0m_streams\u001b[0m\u001b[0;34m:\u001b[0m\u001b[0;34m\u001b[0m\u001b[0;34m\u001b[0m\u001b[0m\n\u001b[0;32m--> 763\u001b[0;31m             \u001b[0;32mraise\u001b[0m \u001b[0mValueError\u001b[0m\u001b[0;34m(\u001b[0m\u001b[0;34m\"Stream `%s' not found\"\u001b[0m \u001b[0;34m%\u001b[0m \u001b[0mstr\u001b[0m\u001b[0;34m(\u001b[0m\u001b[0mstream\u001b[0m\u001b[0;34m)\u001b[0m\u001b[0;34m)\u001b[0m\u001b[0;34m\u001b[0m\u001b[0;34m\u001b[0m\u001b[0m\n\u001b[0m\u001b[1;32m    764\u001b[0m \u001b[0;34m\u001b[0m\u001b[0m\n\u001b[1;32m    765\u001b[0m         \u001b[0mstream\u001b[0m\u001b[0;34m.\u001b[0m\u001b[0mclose\u001b[0m\u001b[0;34m(\u001b[0m\u001b[0;34m)\u001b[0m\u001b[0;34m\u001b[0m\u001b[0;34m\u001b[0m\u001b[0m\n",
      "\u001b[0;31mValueError\u001b[0m: Stream `<pyaudio.Stream object at 0x7fc0d076f880>' not found"
     ]
    }
   ],
   "source": [
    "# set sample rate\n",
    "sampleLen = 4096\n",
    "sampleRate = 48000\n",
    "\n",
    "p.close(stream)\n",
    "print('opening stream...')\n",
    "stream = p.open(format = pyaudio.paInt16,\n",
    "                channels = 1,\n",
    "                rate = sampleRate,\n",
    "                input = True,\n",
    "                frames_per_buffer = sampleLen,\n",
    "                input_device_index = 5)\n",
    "loop = True\n",
    "first = True\n",
    "while loop:\n",
    "    # read a chunk of data - discard first\n",
    "    data  = stream.read(sampleLen)\n",
    "    if not first:\n",
    "        f = open(\"test.bin\", 'wb')\n",
    "        f.write(data)\n",
    "        f.close()\n",
    "        loop = False\n",
    "    first = False\n",
    "p.close(stream)"
   ]
  },
  {
   "cell_type": "code",
   "execution_count": 20,
   "metadata": {},
   "outputs": [],
   "source": [
    "def showAudio(fileName, N):\n",
    "    f = open(fileName, 'rb')\n",
    "    y = f.read()\n",
    "    f.close()\n",
    "\n",
    "    # audio data \n",
    "    x = range(N)\n",
    "    y = np.frombuffer(y, np.int16)\n",
    "\n",
    "    print(\"signal max: %f RMS: %f abs: %f \" % (np.max(y), \n",
    "                                               np.sqrt(np.mean(y**2)), \n",
    "                                               np.mean(np.abs(y))))\n",
    "\n",
    "    pyplot.title('Audio')\n",
    "\n",
    "    # plot audio\n",
    "    pyplot.subplot(2, 1, 1)\n",
    "    pyplot.plot( x, y, '-' )\n",
    "    pyplot.xlabel('time')\n",
    "    pyplot.ylabel('Amplitude')\n",
    "        \n",
    "    pyplot.show()"
   ]
  },
  {
   "cell_type": "code",
   "execution_count": 21,
   "metadata": {},
   "outputs": [
    {
     "name": "stdout",
     "output_type": "stream",
     "text": [
      "signal max: 740.000000 RMS: nan abs: 352.325684 \n"
     ]
    },
    {
     "name": "stderr",
     "output_type": "stream",
     "text": [
      "<ipython-input-20-5f300501a807>:11: RuntimeWarning: invalid value encountered in sqrt\n",
      "  np.sqrt(np.mean(y**2)),\n"
     ]
    },
    {
     "data": {
      "image/png": "[encoded data removed]",
      "text/plain": [
       "<Figure size 432x288 with 1 Axes>"
      ]
     },
     "metadata": {
      "needs_background": "light"
     },
     "output_type": "display_data"
    }
   ],
   "source": [
    "showAudio('test.bin', 4096)"
   ]
  },
  {
   "cell_type": "code",
   "execution_count": null,
   "metadata": {},
   "outputs": [],
   "source": []
  }
 ],
 "metadata": {
  "kernelspec": {
   "display_name": "Python 3",
   "language": "python",
   "name": "python3"
  },
  "language_info": {
   "codemirror_mode": {
    "name": "ipython",
    "version": 3
   },
   "file_extension": ".py",
   "mimetype": "text/x-python",
   "name": "python",
   "nbconvert_exporter": "python",
   "pygments_lexer": "ipython3",
   "version": "3.8.5"
  }
 },
 "nbformat": 4,
 "nbformat_minor": 4
}
